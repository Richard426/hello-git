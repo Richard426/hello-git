{
  "nbformat": 4,
  "nbformat_minor": 0,
  "metadata": {
    "colab": {
      "name": "Python綠能大數據科技應用.ipynb",
      "provenance": [],
      "mount_file_id": "1jTSBYkr0yER9BywH2AVzITkk-WwVIUzU",
      "authorship_tag": "ABX9TyMejIV/NsfSYg2avn4iZpFu",
      "include_colab_link": true
    },
    "kernelspec": {
      "name": "python3",
      "display_name": "Python 3"
    },
    "language_info": {
      "name": "python"
    }
  },
  "cells": [
    {
      "cell_type": "markdown",
      "metadata": {
        "id": "view-in-github",
        "colab_type": "text"
      },
      "source": [
        "<a href=\"https://colab.research.google.com/github/Richard426/hello-git/blob/master/Python%E7%B6%A0%E8%83%BD%E5%A4%A7%E6%95%B8%E6%93%9A%E7%A7%91%E6%8A%80%E6%87%89%E7%94%A8.ipynb\" target=\"_parent\"><img src=\"https://colab.research.google.com/assets/colab-badge.svg\" alt=\"Open In Colab\"/></a>"
      ]
    },
    {
      "cell_type": "markdown",
      "source": [
        "#PTT美食版爬蟲"
      ],
      "metadata": {
        "id": "1JHs6CsBbg9E"
      }
    },
    {
      "cell_type": "code",
      "execution_count": null,
      "metadata": {
        "id": "TPkG6WP0_W6o"
      },
      "outputs": [],
      "source": [
        "import requests\n",
        "from bs4 import BeautifulSoup\n",
        "url='https://www.ptt.cc/bbs/Food/index.html'\n",
        "html=requests.get(url)\n",
        "html"
      ]
    },
    {
      "cell_type": "code",
      "source": [
        "sp=BeautifulSoup(html.text,'html.parser')\n",
        "datas = sp.find_all('div',class_=\"r-ent\")\n",
        "for data in datas:\n",
        "    if data.a:\n",
        "        print(data.find('div',class_='date').text,end=\" \")\n",
        "        print(\"https://www.ptt.cc\"+data.a.get(\"href\"),end=' ')\n",
        "        print(data.a.text)"
      ],
      "metadata": {
        "colab": {
          "base_uri": "https://localhost:8080/"
        },
        "id": "sYOITkkkAZJa",
        "outputId": "78a187aa-4d90-4191-87fc-20b9326f3d53"
      },
      "execution_count": null,
      "outputs": [
        {
          "output_type": "stream",
          "name": "stdout",
          "text": [
            " 2/03 https://www.ptt.cc/bbs/Food/M.1643867311.A.D94.html [食記] Mr. Beast Burger 美式漢堡 X Just Kitch\n",
            " 2/03 https://www.ptt.cc/bbs/Food/M.1643872657.A.BDF.html [食記] 新北五股 仙童炭烤土司 巷內好吃早餐\n",
            " 2/03 https://www.ptt.cc/bbs/Food/M.1643874840.A.440.html [食記] 台北東區 明亮現代的握壽司專賣，旨樂\n",
            " 2/03 https://www.ptt.cc/bbs/Food/M.1643876511.A.9A5.html [食記] 台中 西區│PUTIEN莆田 台中台灣大道店\n",
            " 2/03 https://www.ptt.cc/bbs/Food/M.1643883772.A.3B8.html [食記] 花蓮新城 半天紅麻辣館 x 佳興檸檬汁。\n",
            " 2/03 https://www.ptt.cc/bbs/Food/M.1643890804.A.274.html [食記] 台北王品-嚮辣和牛麻辣鍋分享\n",
            " 2/03 https://www.ptt.cc/bbs/Food/M.1643899422.A.C3F.html [食記] 桃園中壢區。正騰和脆皮炸雞\n",
            " 2/04 https://www.ptt.cc/bbs/Food/M.1643911669.A.5C9.html [食記] 桃園 桃鶯路 協力雞排 G不可失店\n",
            " 2/04 https://www.ptt.cc/bbs/Food/M.1643934036.A.1FB.html [討論] 台南 vs 中壢\n",
            "12/16 https://www.ptt.cc/bbs/Food/M.1355673582.A.5F7.html [公告] Food板 板規 V3.91\n",
            " 9/28 https://www.ptt.cc/bbs/Food/M.1190944426.A.E6C.html [公告] 發文請在標題加上地區及提供地址電話。^^\n",
            "10/01 https://www.ptt.cc/bbs/Food/M.1128132666.A.0FD.html [公告] 文章被刪除者請洽精華區的資源回收桶\n",
            " 6/04 https://www.ptt.cc/bbs/Food/M.1496532469.A.C36.html [公告] 新增板規22：發文禁附延伸閱讀連結\n"
          ]
        }
      ]
    },
    {
      "cell_type": "code",
      "execution_count": null,
      "metadata": {
        "colab": {
          "base_uri": "https://localhost:8080/"
        },
        "id": "7IrS5udPTrtt",
        "outputId": "6f5c30f3-2ded-4c2c-989c-386a2255c1fd"
      },
      "outputs": [
        {
          "output_type": "stream",
          "name": "stdout",
          "text": [
            " 2/03 https://www.ptt.cc/bbs/Food/M.1643867311.A.D94.html [食記] Mr. Beast Burger 美式漢堡 X Just Kitch\n",
            " 2/03 https://www.ptt.cc/bbs/Food/M.1643872657.A.BDF.html [食記] 新北五股 仙童炭烤土司 巷內好吃早餐\n",
            " 2/03 https://www.ptt.cc/bbs/Food/M.1643874840.A.440.html [食記] 台北東區 明亮現代的握壽司專賣，旨樂\n",
            " 2/03 https://www.ptt.cc/bbs/Food/M.1643876511.A.9A5.html [食記] 台中 西區│PUTIEN莆田 台中台灣大道店\n",
            " 2/03 https://www.ptt.cc/bbs/Food/M.1643883772.A.3B8.html [食記] 花蓮新城 半天紅麻辣館 x 佳興檸檬汁。\n",
            " 2/03 https://www.ptt.cc/bbs/Food/M.1643890804.A.274.html [食記] 台北王品-嚮辣和牛麻辣鍋分享\n",
            " 2/03 https://www.ptt.cc/bbs/Food/M.1643899422.A.C3F.html [食記] 桃園中壢區。正騰和脆皮炸雞\n",
            " 2/04 https://www.ptt.cc/bbs/Food/M.1643911669.A.5C9.html [食記] 桃園 桃鶯路 協力雞排 G不可失店\n",
            " 2/04 https://www.ptt.cc/bbs/Food/M.1643934036.A.1FB.html [討論] 台南 vs 中壢\n",
            " 2/04 https://www.ptt.cc/bbs/Food/M.1643952342.A.FC2.html [食記] 新竹東區東門市場 小東門(炒泡麵居酒屋\n",
            " 2/04 https://www.ptt.cc/bbs/Food/M.1643952860.A.2E0.html [食記] 新北.新莊 - 火冒三丈 成都冒菜火鍋\n",
            " 2/04 https://www.ptt.cc/bbs/Food/M.1643954011.A.774.html [食記] 新北.新莊 - 朝鮮味  韓國餐廳\n",
            " 2/04 https://www.ptt.cc/bbs/Food/M.1643954426.A.B05.html [食記] 雲林 斗六西螺麻糬大王-（原冰上冰）\n",
            "12/16 https://www.ptt.cc/bbs/Food/M.1355673582.A.5F7.html [公告] Food板 板規 V3.91\n",
            " 9/28 https://www.ptt.cc/bbs/Food/M.1190944426.A.E6C.html [公告] 發文請在標題加上地區及提供地址電話。^^\n",
            "10/01 https://www.ptt.cc/bbs/Food/M.1128132666.A.0FD.html [公告] 文章被刪除者請洽精華區的資源回收桶\n",
            " 6/04 https://www.ptt.cc/bbs/Food/M.1496532469.A.C36.html [公告] 新增板規22：發文禁附延伸閱讀連結\n"
          ]
        }
      ],
      "source": [
        "import requests\n",
        "from bs4 import BeautifulSoup\n",
        "url='https://www.ptt.cc/bbs/Food/index.html'\n",
        "html=requests.get(url)\n",
        "\n",
        "sp=BeautifulSoup(html.text,'html.parser')\n",
        "datas = sp.find_all('div',class_=\"r-ent\")\n",
        "\n",
        "for data in datas:\n",
        "    if data.a:\n",
        "        print(data.find('div',class_='date').text,end=\" \")\n",
        "        print(\"https://www.ptt.cc\"+data.a.get(\"href\"),end=' ')\n",
        "        print(data.a.text)"
      ]
    },
    {
      "cell_type": "code",
      "source": [
        "\"https://www.ptt.cc\"+sp.find_all('a',class_='btn wide')[1].get(\"href\")"
      ],
      "metadata": {
        "id": "_Lt60KmPTruG",
        "colab": {
          "base_uri": "https://localhost:8080/",
          "height": 35
        },
        "outputId": "aab3bafd-9002-4ef6-f007-7ab7f12e2694"
      },
      "execution_count": null,
      "outputs": [
        {
          "output_type": "execute_result",
          "data": {
            "application/vnd.google.colaboratory.intrinsic+json": {
              "type": "string"
            },
            "text/plain": [
              "'https://www.ptt.cc/bbs/Food/index7002.html'"
            ]
          },
          "metadata": {},
          "execution_count": 6
        }
      ]
    },
    {
      "cell_type": "code",
      "source": [
        "import requests\n",
        "from bs4 import BeautifulSoup\n",
        "#設定首頁連結\n",
        "url='https://www.ptt.cc/bbs/Food/index.html'\n",
        "#設定抓取的頁數\n",
        "for i in range(5):\n",
        "    print(\"第 {} 頁\".format(i+1))\n",
        "    html=requests.get(url)\n",
        "    sp=BeautifulSoup(html.text,'html.parser')\n",
        "    datas = sp.find_all('div',class_=\"r-ent\")\n",
        "\n",
        "    for data in datas:\n",
        "        if data.a:\n",
        "            print(data.find('div',class_='date').text,end=\" \")\n",
        "            print(\"https://www.ptt.cc\"+data.a.get(\"href\"),end=' ')\n",
        "            print(data.a.text)\n",
        "    #取得下一頁的連結\n",
        "    url = \"https://www.ptt.cc\"+sp.find_all('a',class_='btn wide')[1].get(\"href\")"
      ],
      "metadata": {
        "id": "zp4LmE3adBMW"
      },
      "execution_count": null,
      "outputs": []
    },
    {
      "cell_type": "code",
      "source": [
        "import requests\n",
        "from bs4 import BeautifulSoup\n",
        "url='https://www.ptt.cc/bbs/Gossiping/index.html'\n",
        "#設定cookie值\n",
        "headers ={\"cookie\":\"over18=1\"}\n",
        "html=requests.get(url,headers=headers)\n",
        "\n",
        "sp=BeautifulSoup(html.text,'html.parser')\n",
        "datas = sp.find_all('div',class_=\"r-ent\")\n",
        "\n",
        "for data in datas:\n",
        "    if data.a:\n",
        "        print(data.find('div',class_='date').text,end=\" \")\n",
        "        print(\"https://www.ptt.cc\"+data.a.get(\"href\"),end=' ')\n",
        "        print(data.a.text)"
      ],
      "metadata": {
        "id": "gIP6UOUpgvfu"
      },
      "execution_count": null,
      "outputs": []
    },
    {
      "cell_type": "markdown",
      "source": [
        "#下載學校名冊資料"
      ],
      "metadata": {
        "id": "CCP3unzkyt0B"
      }
    },
    {
      "cell_type": "code",
      "source": [
        "import requests\n",
        "from bs4 import BeautifulSoup\n",
        "url='https://highschool.ttvs.ntct.edu.tw/search/index.php?city=15&no=2'\n",
        "\n",
        "html=requests.get(url)\n",
        "\n",
        "sp=BeautifulSoup(html.text,'html.parser')\n",
        "datas = sp.find('div',id='school-list').find_all('table')\n",
        "for data in datas:\n",
        "    school = data.find_all('li')\n",
        "    print(school[0].text,school[1].text,school[2].text,school[3].text)"
      ],
      "metadata": {
        "id": "nSpObVxwwDly"
      },
      "execution_count": null,
      "outputs": []
    },
    {
      "cell_type": "code",
      "source": [
        "import requests\n",
        "from bs4 import BeautifulSoup\n",
        "\n",
        "for i in range(1,3):\n",
        "    url='https://highschool.ttvs.ntct.edu.tw/search/index.php?city=15&no=2&page='+str(i)\n",
        "    html=requests.get(url)\n",
        "\n",
        "    sp=BeautifulSoup(html.text,'html.parser')\n",
        "    datas = sp.find('div',id='school-list').find_all('table')\n",
        "    for data in datas:\n",
        "        school = data.find_all('li')\n",
        "        print(school[0].text,school[1].text,school[2].text,school[3].text)"
      ],
      "metadata": {
        "id": "MX2vtnLl7GXN"
      },
      "execution_count": null,
      "outputs": []
    },
    {
      "cell_type": "code",
      "source": [
        "with open('test.txt','w') as f:\n",
        "    f.write('Hello World!')"
      ],
      "metadata": {
        "id": "yZdZ8biGT4Or"
      },
      "execution_count": null,
      "outputs": []
    },
    {
      "cell_type": "code",
      "source": [
        "!cat test.txt"
      ],
      "metadata": {
        "colab": {
          "base_uri": "https://localhost:8080/"
        },
        "id": "009e_9aSUWqH",
        "outputId": "24a29da5-7ac0-4cec-a1a1-467fbf3d8941"
      },
      "execution_count": null,
      "outputs": [
        {
          "output_type": "stream",
          "name": "stdout",
          "text": [
            "Hello World!"
          ]
        }
      ]
    },
    {
      "cell_type": "code",
      "source": [
        "import requests\n",
        "from bs4 import BeautifulSoup\n",
        "\n",
        "with open('school.csv','w') as f:\n",
        "    f.write(\"學校,住址,電話,網址\\n\")\n",
        "\n",
        "for i in range(1,3):\n",
        "    url='https://highschool.ttvs.ntct.edu.tw/search/index.php?city=15&no=2&page='+str(i)\n",
        "    html=requests.get(url)\n",
        "\n",
        "    sp=BeautifulSoup(html.text,'html.parser')\n",
        "    datas = sp.find('div',id='school-list').find_all('table')\n",
        "    for data in datas:\n",
        "        school = data.find_all('li')\n",
        "        with open('school.csv','a') as f:\n",
        "            f.write(\"{},{},{},{}\\n\".format(school[0].text,school[1].text,school[2].text,school[3].text))\n",
        "        \n",
        "        #print(school[0].text,school[1].text,school[2].text,school[3].text)"
      ],
      "metadata": {
        "id": "duNnmHBfSqFg"
      },
      "execution_count": null,
      "outputs": []
    },
    {
      "cell_type": "code",
      "source": [
        "!cat -n school.csv"
      ],
      "metadata": {
        "id": "vlzEhlzgWoN4"
      },
      "execution_count": null,
      "outputs": []
    },
    {
      "cell_type": "markdown",
      "source": [
        "#批次下載圖片"
      ],
      "metadata": {
        "id": "1j1QHPundK3J"
      }
    },
    {
      "cell_type": "code",
      "source": [
        "import requests\n",
        "from bs4 import BeautifulSoup\n",
        "url=\"https://www.irasutoya.com/2021/01/blog-post_64.html\"\n",
        "html = requests.get(url)\n",
        "html"
      ],
      "metadata": {
        "id": "fvsLf5ZpdShY",
        "colab": {
          "base_uri": "https://localhost:8080/"
        },
        "outputId": "ea4b3572-be9f-46a7-dea0-e8a992d84864"
      },
      "execution_count": 8,
      "outputs": [
        {
          "output_type": "execute_result",
          "data": {
            "text/plain": [
              "<Response [200]>"
            ]
          },
          "metadata": {},
          "execution_count": 8
        }
      ]
    },
    {
      "cell_type": "code",
      "source": [
        "sp = BeautifulSoup(html.text,'html.parser')\n",
        "datas = sp.find('div',class_=\"separator\").find_all('a')\n",
        "for data in datas:\n",
        "    print(data.get('href'))"
      ],
      "metadata": {
        "colab": {
          "base_uri": "https://localhost:8080/"
        },
        "id": "fbqOl081q2Xf",
        "outputId": "1c9a3d84-8dbb-4dc3-d7ba-5da536fbbd9e"
      },
      "execution_count": 13,
      "outputs": [
        {
          "output_type": "stream",
          "name": "stdout",
          "text": [
            "https://1.bp.blogspot.com/-yWLb8tx9t1k/YAo8iibYAYI/AAAAAAABdSs/thfQn1lEbScHxGKbyQHCsvSlcoKF9e3pQCNcBGAsYHQ/s656/animal_marmot_white_brown.png\n",
            "https://1.bp.blogspot.com/-liRpofZBLqw/YAo8iWTWw3I/AAAAAAABdSo/2GYSvyXDeZk7DSTEHaWc3gsL2Xp5d9miwCNcBGAsYHQ/s656/animal_marmot_white_black.png\n",
            "https://1.bp.blogspot.com/-lp9kK9ctJgE/YAo8iUImNDI/AAAAAAABdSk/NRL3cXxVUWwpFwRghF7O8MI6ITS54KVgACNcBGAsYHQ/s656/animal_marmot_white.png\n",
            "https://1.bp.blogspot.com/-ZSNbc8tNIg4/YAo8hm0cAlI/AAAAAAABdSg/kIIXliuswJcqa5FEYCNeX7fEqLa3WdE3ACNcBGAsYHQ/s656/animal_marmot_mike.png\n",
            "https://1.bp.blogspot.com/-1s5mU8my4KY/YAo8hpiMUBI/AAAAAAABdSY/7MLeTYlkohUhUAzeHv5CbGSahycdC9FPwCNcBGAsYHQ/s656/animal_marmot_brown.png\n",
            "https://1.bp.blogspot.com/-35g1WmD5B1U/YAo8hpY0mpI/AAAAAAABdSc/vmreXdBYAtYBkFi43o_YnMrGrp1ObUBLACNcBGAsYHQ/s656/animal_marmot_black.png\n"
          ]
        }
      ]
    },
    {
      "cell_type": "code",
      "source": [
        "sp = BeautifulSoup(html.text,'html.parser')\n",
        "datas = sp.find('div',class_=\"separator\").find_all('a')\n",
        "for data in datas:\n",
        "    print(data.get('href').split('/')[-1])"
      ],
      "metadata": {
        "colab": {
          "base_uri": "https://localhost:8080/"
        },
        "id": "TvHRUYLTtpDg",
        "outputId": "bc305586-9808-4724-fa5c-2c7154f1a509"
      },
      "execution_count": 14,
      "outputs": [
        {
          "output_type": "stream",
          "name": "stdout",
          "text": [
            "animal_marmot_white_brown.png\n",
            "animal_marmot_white_black.png\n",
            "animal_marmot_white.png\n",
            "animal_marmot_mike.png\n",
            "animal_marmot_brown.png\n",
            "animal_marmot_black.png\n"
          ]
        }
      ]
    },
    {
      "cell_type": "code",
      "source": [
        "sp = BeautifulSoup(html.text,'html.parser')\n",
        "datas = sp.find('div',class_=\"separator\").find_all('a')\n",
        "for data in datas:\n",
        "    imgfile = requests.get(data.get('href'))\n",
        "    imgname = data.get('href').split('/')[-1]\n",
        "    with open('/content/drive/MyDrive/Colab Notebooks/mouseimg/'+imgname,'wb') as f:\n",
        "        f.write(imgfile.content)"
      ],
      "metadata": {
        "id": "-De40I23s8Cl"
      },
      "execution_count": 16,
      "outputs": []
    },
    {
      "cell_type": "markdown",
      "source": [
        "#非同步載入資料 Ajax 爬蟲"
      ],
      "metadata": {
        "id": "SR8dy4YZ1NhM"
      }
    },
    {
      "cell_type": "code",
      "source": [
        "import requests\n",
        "url = 'https://covid19dashboard.cdc.gov.tw/dash3'\n",
        "html = requests.get(url)\n",
        "html.text"
      ],
      "metadata": {
        "colab": {
          "base_uri": "https://localhost:8080/",
          "height": 53
        },
        "id": "yVT_NroY1XJq",
        "outputId": "cbb1c04e-bb48-411e-87ba-dffd4678493d"
      },
      "execution_count": 17,
      "outputs": [
        {
          "output_type": "execute_result",
          "data": {
            "application/vnd.google.colaboratory.intrinsic+json": {
              "type": "string"
            },
            "text/plain": [
              "'{\"0\":{\"確診\":\"19,029\",\"死亡\":851,\"送驗\":\"5,719,429\",\"排除\":\"5,699,979\",\"昨日確診\":56,\"昨日排除\":\"12,859\",\"昨日送驗\":\"13,166\"}}'"
            ]
          },
          "metadata": {},
          "execution_count": 17
        }
      ]
    },
    {
      "cell_type": "code",
      "source": [
        "import json\n",
        "datas = json.loads(html.text)\n",
        "type(datas)"
      ],
      "metadata": {
        "colab": {
          "base_uri": "https://localhost:8080/"
        },
        "id": "pJ5wxU4r2H7c",
        "outputId": "11eb195d-d8fc-491d-cae5-4117368a0203"
      },
      "execution_count": 19,
      "outputs": [
        {
          "output_type": "execute_result",
          "data": {
            "text/plain": [
              "dict"
            ]
          },
          "metadata": {},
          "execution_count": 19
        }
      ]
    },
    {
      "cell_type": "code",
      "source": [
        "print(\"確診:\",datas['0'][\"確診\"])\n",
        "print(\"死亡:\",datas['0'][\"死亡\"])\n",
        "print(\"送驗:\",datas['0'][\"送驗\"])\n",
        "print(\"排除:\",datas['0'][\"排除\"])"
      ],
      "metadata": {
        "colab": {
          "base_uri": "https://localhost:8080/"
        },
        "id": "KC6cfQXc2nbS",
        "outputId": "f71d23c3-b250-49c1-d8df-d995d15f1a90"
      },
      "execution_count": 24,
      "outputs": [
        {
          "output_type": "stream",
          "name": "stdout",
          "text": [
            "確診: 19,029\n",
            "死亡: 851\n",
            "送驗: 5,719,429\n",
            "排除: 5,699,979\n"
          ]
        }
      ]
    },
    {
      "cell_type": "code",
      "source": [
        "import json\n",
        "datas = json.loads(html.text)\n",
        "for k, v in datas[\"0\"].items():\n",
        "    print(k, v)"
      ],
      "metadata": {
        "colab": {
          "base_uri": "https://localhost:8080/"
        },
        "id": "hZ8SNEzU8PC5",
        "outputId": "c782e457-0fc3-4c1b-db92-87d7b9eafa98"
      },
      "execution_count": 25,
      "outputs": [
        {
          "output_type": "stream",
          "name": "stdout",
          "text": [
            "確診 19,029\n",
            "死亡 851\n",
            "送驗 5,719,429\n",
            "排除 5,699,979\n",
            "昨日確診 56\n",
            "昨日排除 12,859\n",
            "昨日送驗 13,166\n"
          ]
        }
      ]
    }
  ]
}