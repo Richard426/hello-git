{
  "nbformat": 4,
  "nbformat_minor": 0,
  "metadata": {
    "colab": {
      "name": "Python綠能大數據科技應用.ipynb",
      "provenance": [],
      "authorship_tag": "ABX9TyOOZu5eHAAc1T/ms8/505kk",
      "include_colab_link": true
    },
    "kernelspec": {
      "name": "python3",
      "display_name": "Python 3"
    },
    "language_info": {
      "name": "python"
    }
  },
  "cells": [
    {
      "cell_type": "markdown",
      "metadata": {
        "id": "view-in-github",
        "colab_type": "text"
      },
      "source": [
        "<a href=\"https://colab.research.google.com/github/Richard426/hello-git/blob/master/Python%E7%B6%A0%E8%83%BD%E5%A4%A7%E6%95%B8%E6%93%9A%E7%A7%91%E6%8A%80%E6%87%89%E7%94%A8.ipynb\" target=\"_parent\"><img src=\"https://colab.research.google.com/assets/colab-badge.svg\" alt=\"Open In Colab\"/></a>"
      ]
    },
    {
      "cell_type": "code",
      "execution_count": null,
      "metadata": {
        "id": "TPkG6WP0_W6o"
      },
      "outputs": [],
      "source": [
        "import requests\n",
        "from bs4 import BeautifulSoup\n",
        "url='https://www.ptt.cc/bbs/Food/index.html'\n",
        "html=requests.get(url)\n",
        "html"
      ]
    },
    {
      "cell_type": "code",
      "source": [
        "sp=BeautifulSoup(html.text,'html.parser')\n",
        "datas = sp.find_all('div',class_=\"r-ent\")\n",
        "for data in datas:\n",
        "    if data.a:\n",
        "        print(data.find('div',class_='date').text,end=\" \")\n",
        "        print(\"https://www.ptt.cc\"+data.a.get(\"href\"),end=' ')\n",
        "        print(data.a.text)"
      ],
      "metadata": {
        "colab": {
          "base_uri": "https://localhost:8080/"
        },
        "id": "sYOITkkkAZJa",
        "outputId": "78a187aa-4d90-4191-87fc-20b9326f3d53"
      },
      "execution_count": null,
      "outputs": [
        {
          "output_type": "stream",
          "name": "stdout",
          "text": [
            " 2/03 https://www.ptt.cc/bbs/Food/M.1643867311.A.D94.html [食記] Mr. Beast Burger 美式漢堡 X Just Kitch\n",
            " 2/03 https://www.ptt.cc/bbs/Food/M.1643872657.A.BDF.html [食記] 新北五股 仙童炭烤土司 巷內好吃早餐\n",
            " 2/03 https://www.ptt.cc/bbs/Food/M.1643874840.A.440.html [食記] 台北東區 明亮現代的握壽司專賣，旨樂\n",
            " 2/03 https://www.ptt.cc/bbs/Food/M.1643876511.A.9A5.html [食記] 台中 西區│PUTIEN莆田 台中台灣大道店\n",
            " 2/03 https://www.ptt.cc/bbs/Food/M.1643883772.A.3B8.html [食記] 花蓮新城 半天紅麻辣館 x 佳興檸檬汁。\n",
            " 2/03 https://www.ptt.cc/bbs/Food/M.1643890804.A.274.html [食記] 台北王品-嚮辣和牛麻辣鍋分享\n",
            " 2/03 https://www.ptt.cc/bbs/Food/M.1643899422.A.C3F.html [食記] 桃園中壢區。正騰和脆皮炸雞\n",
            " 2/04 https://www.ptt.cc/bbs/Food/M.1643911669.A.5C9.html [食記] 桃園 桃鶯路 協力雞排 G不可失店\n",
            " 2/04 https://www.ptt.cc/bbs/Food/M.1643934036.A.1FB.html [討論] 台南 vs 中壢\n",
            "12/16 https://www.ptt.cc/bbs/Food/M.1355673582.A.5F7.html [公告] Food板 板規 V3.91\n",
            " 9/28 https://www.ptt.cc/bbs/Food/M.1190944426.A.E6C.html [公告] 發文請在標題加上地區及提供地址電話。^^\n",
            "10/01 https://www.ptt.cc/bbs/Food/M.1128132666.A.0FD.html [公告] 文章被刪除者請洽精華區的資源回收桶\n",
            " 6/04 https://www.ptt.cc/bbs/Food/M.1496532469.A.C36.html [公告] 新增板規22：發文禁附延伸閱讀連結\n"
          ]
        }
      ]
    },
    {
      "cell_type": "code",
      "execution_count": 1,
      "metadata": {
        "colab": {
          "base_uri": "https://localhost:8080/"
        },
        "id": "7IrS5udPTrtt",
        "outputId": "6f5c30f3-2ded-4c2c-989c-386a2255c1fd"
      },
      "outputs": [
        {
          "output_type": "stream",
          "name": "stdout",
          "text": [
            " 2/03 https://www.ptt.cc/bbs/Food/M.1643867311.A.D94.html [食記] Mr. Beast Burger 美式漢堡 X Just Kitch\n",
            " 2/03 https://www.ptt.cc/bbs/Food/M.1643872657.A.BDF.html [食記] 新北五股 仙童炭烤土司 巷內好吃早餐\n",
            " 2/03 https://www.ptt.cc/bbs/Food/M.1643874840.A.440.html [食記] 台北東區 明亮現代的握壽司專賣，旨樂\n",
            " 2/03 https://www.ptt.cc/bbs/Food/M.1643876511.A.9A5.html [食記] 台中 西區│PUTIEN莆田 台中台灣大道店\n",
            " 2/03 https://www.ptt.cc/bbs/Food/M.1643883772.A.3B8.html [食記] 花蓮新城 半天紅麻辣館 x 佳興檸檬汁。\n",
            " 2/03 https://www.ptt.cc/bbs/Food/M.1643890804.A.274.html [食記] 台北王品-嚮辣和牛麻辣鍋分享\n",
            " 2/03 https://www.ptt.cc/bbs/Food/M.1643899422.A.C3F.html [食記] 桃園中壢區。正騰和脆皮炸雞\n",
            " 2/04 https://www.ptt.cc/bbs/Food/M.1643911669.A.5C9.html [食記] 桃園 桃鶯路 協力雞排 G不可失店\n",
            " 2/04 https://www.ptt.cc/bbs/Food/M.1643934036.A.1FB.html [討論] 台南 vs 中壢\n",
            " 2/04 https://www.ptt.cc/bbs/Food/M.1643952342.A.FC2.html [食記] 新竹東區東門市場 小東門(炒泡麵居酒屋\n",
            " 2/04 https://www.ptt.cc/bbs/Food/M.1643952860.A.2E0.html [食記] 新北.新莊 - 火冒三丈 成都冒菜火鍋\n",
            " 2/04 https://www.ptt.cc/bbs/Food/M.1643954011.A.774.html [食記] 新北.新莊 - 朝鮮味  韓國餐廳\n",
            " 2/04 https://www.ptt.cc/bbs/Food/M.1643954426.A.B05.html [食記] 雲林 斗六西螺麻糬大王-（原冰上冰）\n",
            "12/16 https://www.ptt.cc/bbs/Food/M.1355673582.A.5F7.html [公告] Food板 板規 V3.91\n",
            " 9/28 https://www.ptt.cc/bbs/Food/M.1190944426.A.E6C.html [公告] 發文請在標題加上地區及提供地址電話。^^\n",
            "10/01 https://www.ptt.cc/bbs/Food/M.1128132666.A.0FD.html [公告] 文章被刪除者請洽精華區的資源回收桶\n",
            " 6/04 https://www.ptt.cc/bbs/Food/M.1496532469.A.C36.html [公告] 新增板規22：發文禁附延伸閱讀連結\n"
          ]
        }
      ],
      "source": [
        "import requests\n",
        "from bs4 import BeautifulSoup\n",
        "url='https://www.ptt.cc/bbs/Food/index.html'\n",
        "html=requests.get(url)\n",
        "\n",
        "sp=BeautifulSoup(html.text,'html.parser')\n",
        "datas = sp.find_all('div',class_=\"r-ent\")\n",
        "\n",
        "for data in datas:\n",
        "    if data.a:\n",
        "        print(data.find('div',class_='date').text,end=\" \")\n",
        "        print(\"https://www.ptt.cc\"+data.a.get(\"href\"),end=' ')\n",
        "        print(data.a.text)"
      ]
    },
    {
      "cell_type": "code",
      "source": [
        "\"https://www.ptt.cc\"+sp.find_all('a',class_='btn wide')[1].get(\"href\")"
      ],
      "metadata": {
        "id": "_Lt60KmPTruG",
        "colab": {
          "base_uri": "https://localhost:8080/",
          "height": 35
        },
        "outputId": "aab3bafd-9002-4ef6-f007-7ab7f12e2694"
      },
      "execution_count": 6,
      "outputs": [
        {
          "output_type": "execute_result",
          "data": {
            "application/vnd.google.colaboratory.intrinsic+json": {
              "type": "string"
            },
            "text/plain": [
              "'https://www.ptt.cc/bbs/Food/index7002.html'"
            ]
          },
          "metadata": {},
          "execution_count": 6
        }
      ]
    },
    {
      "cell_type": "code",
      "source": [
        "import requests\n",
        "from bs4 import BeautifulSoup\n",
        "#設定首頁連結\n",
        "url='https://www.ptt.cc/bbs/Food/index.html'\n",
        "#設定抓取的頁數\n",
        "for i in range(5):\n",
        "    print(\"第 {} 頁\".format(i+1))\n",
        "    html=requests.get(url)\n",
        "    sp=BeautifulSoup(html.text,'html.parser')\n",
        "    datas = sp.find_all('div',class_=\"r-ent\")\n",
        "\n",
        "    for data in datas:\n",
        "        if data.a:\n",
        "            print(data.find('div',class_='date').text,end=\" \")\n",
        "            print(\"https://www.ptt.cc\"+data.a.get(\"href\"),end=' ')\n",
        "            print(data.a.text)\n",
        "    #取得下一頁的連結\n",
        "    url = \"https://www.ptt.cc\"+sp.find_all('a',class_='btn wide')[1].get(\"href\")"
      ],
      "metadata": {
        "id": "zp4LmE3adBMW"
      },
      "execution_count": null,
      "outputs": []
    },
    {
      "cell_type": "code",
      "source": [
        "import requests\n",
        "from bs4 import BeautifulSoup\n",
        "url='https://www.ptt.cc/bbs/Gossiping/index.html'\n",
        "#設定cookie值\n",
        "headers ={\"cookie\":\"over18=1\"}\n",
        "html=requests.get(url,headers=headers)\n",
        "\n",
        "sp=BeautifulSoup(html.text,'html.parser')\n",
        "datas = sp.find_all('div',class_=\"r-ent\")\n",
        "\n",
        "for data in datas:\n",
        "    if data.a:\n",
        "        print(data.find('div',class_='date').text,end=\" \")\n",
        "        print(\"https://www.ptt.cc\"+data.a.get(\"href\"),end=' ')\n",
        "        print(data.a.text)"
      ],
      "metadata": {
        "colab": {
          "base_uri": "https://localhost:8080/"
        },
        "id": "gIP6UOUpgvfu",
        "outputId": "383e2f4c-f0be-4cc6-e464-9540fbe10a2d"
      },
      "execution_count": 9,
      "outputs": [
        {
          "output_type": "stream",
          "name": "stdout",
          "text": [
            " 2/04 https://www.ptt.cc/bbs/Gossiping/M.1643957465.A.725.html [問卦] 最爛的連鎖手搖飲料店是那家？\n",
            " 2/04 https://www.ptt.cc/bbs/Gossiping/M.1643957488.A.175.html 地震\n",
            " 2/04 https://www.ptt.cc/bbs/Gossiping/M.1643957493.A.B60.html [爆卦] 地震\n",
            " 2/04 https://www.ptt.cc/bbs/Gossiping/M.1643957495.A.BC0.html [爆卦] 地震\n",
            " 2/04 https://www.ptt.cc/bbs/Gossiping/M.1643957509.A.62D.html 地震\n",
            " 2/04 https://www.ptt.cc/bbs/Gossiping/M.1643957521.A.C7D.html [爆卦] 地震\n",
            " 2/04 https://www.ptt.cc/bbs/Gossiping/M.1643957524.A.A26.html 新竹地震\n",
            " 2/04 https://www.ptt.cc/bbs/Gossiping/M.1643957525.A.A32.html [問卦] 即使舔共你還是很愛的藝人或名人？\n",
            " 2/04 https://www.ptt.cc/bbs/Gossiping/M.1643957540.A.94B.html [問卦] 今天本土+25\n",
            " 2/04 https://www.ptt.cc/bbs/Gossiping/M.1643957591.A.55F.html Re: [問卦] 看過這東西的人現在都幾歲了？\n",
            " 2/04 https://www.ptt.cc/bbs/Gossiping/M.1643957596.A.4DA.html Re: [新聞] 快訊／高雄防疫旅館爆群聚！全棟緊急清\n",
            " 2/04 https://www.ptt.cc/bbs/Gossiping/M.1643957632.A.34C.html [問卦] 女生在捷運上伸腳給我看 \n",
            " 2/04 https://www.ptt.cc/bbs/Gossiping/M.1643957646.A.F3E.html Re: [爆卦] 本土+25、境外+46\n",
            " 2/04 https://www.ptt.cc/bbs/Gossiping/M.1643957690.A.B0D.html [爆卦] LIVE 鄭文燦桃園疫情記者會 15:00\n",
            " 2/04 https://www.ptt.cc/bbs/Gossiping/M.1643957697.A.E88.html [問卦] 北韓會在意南韓語入侵嗎\n",
            " 2/04 https://www.ptt.cc/bbs/Gossiping/M.1643957747.A.423.html [新聞] 高雄確診＋12「防疫旅館爆群聚」！陳時\n",
            " 2/04 https://www.ptt.cc/bbs/Gossiping/M.1643957766.A.01D.html Re: [新聞] 快訊／高雄防疫旅館爆群聚！全棟緊急清\n",
            " 2/04 https://www.ptt.cc/bbs/Gossiping/M.1643957789.A.A87.html [新聞] 沒有試過怎知不行 她拚上身障特考\n",
            " 2/04 https://www.ptt.cc/bbs/Gossiping/M.1643957913.A.73F.html [問卦] 有沒有今天連三震的八卦?\n",
            " 2/04 https://www.ptt.cc/bbs/Gossiping/M.1643957970.A.BBE.html Re: [問卦] 國外警察 都有空 找失蹤人口？\n",
            "11/21 https://www.ptt.cc/bbs/Gossiping/M.1637425085.A.07D.html [公告] 八卦板板規(2021.11.21)\n",
            " 1/30 https://www.ptt.cc/bbs/Gossiping/M.1643501990.A.8A6.html [協尋] 1/28 新店安和路 車禍行車記錄器\n",
            " 1/30 https://www.ptt.cc/bbs/Gossiping/M.1643553471.A.CC1.html Fw: [任務] QuestCenter 春節任務─致富密碼(發錢)\n",
            " 2/02 https://www.ptt.cc/bbs/Gossiping/M.1643732339.A.D93.html [協尋] 有償！高雄鳳山喜樂蒂牧羊犬\n"
          ]
        }
      ]
    }
  ]
}